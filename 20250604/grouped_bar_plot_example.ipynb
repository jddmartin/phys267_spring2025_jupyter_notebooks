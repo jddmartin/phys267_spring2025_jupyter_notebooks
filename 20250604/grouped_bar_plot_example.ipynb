{
 "cells": [
  {
   "cell_type": "code",
   "execution_count": 40,
   "id": "383972bb-9936-4661-8676-466253330098",
   "metadata": {},
   "outputs": [],
   "source": [
    "# Grouped bar plot example\n",
    "# remember to add axis labels etc...\n",
    "# this was done quickly in the tutorial\n",
    "\n",
    "import pandas as pd\n",
    "import matplotlib.pyplot as plt\n",
    "import numpy as np\n",
    "import scipy.stats as ss\n",
    "import math"
   ]
  },
  {
   "cell_type": "code",
   "execution_count": null,
   "id": "6a641d9d-bd0c-434d-96d5-01912ba17725",
   "metadata": {},
   "outputs": [],
   "source": []
  },
  {
   "cell_type": "code",
   "execution_count": null,
   "id": "ff302e08-c560-43df-8fe4-b06da573bd0b",
   "metadata": {},
   "outputs": [],
   "source": []
  },
  {
   "cell_type": "code",
   "execution_count": 5,
   "id": "946b63bd-3fe3-4363-97d9-c21a67c7e43d",
   "metadata": {},
   "outputs": [],
   "source": [
    "df = pd.read_csv(\"hk.csv\", header=None)"
   ]
  },
  {
   "cell_type": "code",
   "execution_count": 7,
   "id": "498a649c-146b-4f6a-b06e-0ba0052d440e",
   "metadata": {},
   "outputs": [],
   "source": [
    "ndf = df.fillna(0)"
   ]
  },
  {
   "cell_type": "code",
   "execution_count": 13,
   "id": "2d82f94d-f4c2-48bb-a5e2-66809cfd566c",
   "metadata": {},
   "outputs": [],
   "source": [
    "hks = ndf.to_numpy().flatten()"
   ]
  },
  {
   "cell_type": "code",
   "execution_count": 18,
   "id": "27be768b-9158-44fb-b824-8804a6d6cf85",
   "metadata": {},
   "outputs": [
    {
     "name": "stdout",
     "output_type": "stream",
     "text": [
      "d_hks=DescribeResult(nobs=280, minmax=(0.0, 4.0), mean=0.7, variance=0.7627240143369173, skewness=1.2348344998841236, kurtosis=1.153368618915711)\n"
     ]
    },
    {
     "data": {
      "text/plain": [
       "0.7"
      ]
     },
     "execution_count": 18,
     "metadata": {},
     "output_type": "execute_result"
    }
   ],
   "source": [
    "d_hks= ss.describe(hks)\n",
    "print(f\"{d_hks=}\")\n",
    "d_hks.mean"
   ]
  },
  {
   "cell_type": "code",
   "execution_count": 41,
   "id": "197b97ba-ca63-4bb1-ac1b-0701f740ddfc",
   "metadata": {},
   "outputs": [],
   "source": [
    "def f(i): return 1 / math.factorial(i) * d_hks.mean**i * np.exp(-d_hks.mean)"
   ]
  },
  {
   "cell_type": "code",
   "execution_count": 47,
   "id": "0501d1a3-b3f1-4455-98ff-90f90c369008",
   "metadata": {},
   "outputs": [],
   "source": [
    "iss = np.array(list(range(10)))"
   ]
  },
  {
   "cell_type": "code",
   "execution_count": 49,
   "id": "203b7201-1c04-42c0-9818-36712432e0fd",
   "metadata": {},
   "outputs": [
    {
     "data": {
      "text/plain": [
       "array([4.96585304e-01, 3.47609713e-01, 1.21663399e-01, 2.83881265e-02,\n",
       "       4.96792214e-03, 6.95509100e-04, 8.11427283e-05, 8.11427283e-06,\n",
       "       7.09998873e-07, 5.52221346e-08])"
      ]
     },
     "execution_count": 49,
     "metadata": {},
     "output_type": "execute_result"
    }
   ],
   "source": [
    "fss = np.array([f(i) for i in iss])\n",
    "fss"
   ]
  },
  {
   "cell_type": "code",
   "execution_count": 31,
   "id": "d7409b07-f640-4580-99f0-173db93b95e4",
   "metadata": {},
   "outputs": [
    {
     "data": {
      "text/plain": [
       "array([0., 1., 2., 3., 4., 5., 6., 7., 8., 9.])"
      ]
     },
     "execution_count": 31,
     "metadata": {},
     "output_type": "execute_result"
    }
   ],
   "source": [
    "bin_edges = np.arange(-0.5, 10.5, 1.0)\n",
    "bin_centers = (bin_edges[1:] + bin_edges[:-1]) / 2\n",
    "bin_centers"
   ]
  },
  {
   "cell_type": "code",
   "execution_count": 22,
   "id": "779ef57d-c7a9-4bcb-8b46-3cd984cda770",
   "metadata": {},
   "outputs": [
    {
     "data": {
      "text/plain": [
       "array([-0.5,  0.5,  1.5,  2.5,  3.5,  4.5,  5.5,  6.5,  7.5,  8.5,  9.5])"
      ]
     },
     "execution_count": 22,
     "metadata": {},
     "output_type": "execute_result"
    }
   ],
   "source": [
    "bin_edges"
   ]
  },
  {
   "cell_type": "code",
   "execution_count": 50,
   "id": "9576cf51-fa05-4f3f-b861-64435c7fc8f0",
   "metadata": {},
   "outputs": [],
   "source": [
    "h, _ = np.histogram(hks, bin_edges, density=True)"
   ]
  },
  {
   "cell_type": "code",
   "execution_count": 53,
   "id": "5e613c16-09a0-42ce-8d98-bb4cc2c01530",
   "metadata": {},
   "outputs": [
    {
     "data": {
      "text/plain": [
       "<matplotlib.legend.Legend at 0x7fbc9f26c4f0>"
      ]
     },
     "execution_count": 53,
     "metadata": {},
     "output_type": "execute_result"
    },
    {
     "data": {
      "image/png": "[encoded data removed]",
      "text/plain": [
       "<Figure size 640x480 with 1 Axes>"
      ]
     },
     "metadata": {},
     "output_type": "display_data"
    }
   ],
   "source": [
    "width = 0.3\n",
    "plt.bar(bin_centers - width/2, h, width=width, label=\"empirically observed\")\n",
    "ax = plt.gca()\n",
    "ax.bar(iss + width/2, fss, width=width, color=\"orange\", label=\"theoretical poisson\")\n",
    "ax.legend()"
   ]
  },
  {
   "cell_type": "code",
   "execution_count": null,
   "id": "4fb9c517-6399-4487-aff5-1812075926ba",
   "metadata": {},
   "outputs": [],
   "source": []
  }
 ],
 "metadata": {
  "kernelspec": {
   "display_name": "Python 3",
   "language": "python",
   "name": "python3"
  },
  "language_info": {
   "codemirror_mode": {
    "name": "ipython",
    "version": 3
   },
   "file_extension": ".py",
   "mimetype": "text/x-python",
   "name": "python",
   "nbconvert_exporter": "python",
   "pygments_lexer": "ipython3",
   "version": "3.10.4"
  }
 },
 "nbformat": 4,
 "nbformat_minor": 5
}
