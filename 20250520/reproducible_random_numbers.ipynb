{
 "cells": [
  {
   "cell_type": "code",
   "execution_count": 1,
   "id": "4215a6cd-edc7-497e-9e3a-c2d3987c8427",
   "metadata": {},
   "outputs": [],
   "source": [
    "import random"
   ]
  },
  {
   "cell_type": "code",
   "execution_count": 9,
   "id": "b0a9835f-6e42-4acb-b58b-e459d070513b",
   "metadata": {},
   "outputs": [
    {
     "data": {
      "text/plain": [
       "0.08961830933681636"
      ]
     },
     "execution_count": 9,
     "metadata": {},
     "output_type": "execute_result"
    }
   ],
   "source": [
    "# use random.seed() once after import of random to get\n",
    "# reproducible random numbers\n",
    "random.seed()\n",
    "random.random()"
   ]
  },
  {
   "cell_type": "code",
   "execution_count": null,
   "id": "49d76706-98d9-48cf-8ed0-5441e68bf7ec",
   "metadata": {},
   "outputs": [],
   "source": []
  },
  {
   "cell_type": "code",
   "execution_count": null,
   "id": "6e7f5639-4fa4-4746-ad1c-afd8eaa5d847",
   "metadata": {},
   "outputs": [],
   "source": []
  }
 ],
 "metadata": {
  "kernelspec": {
   "display_name": "Python 3",
   "language": "python",
   "name": "python3"
  },
  "language_info": {
   "codemirror_mode": {
    "name": "ipython",
    "version": 3
   },
   "file_extension": ".py",
   "mimetype": "text/x-python",
   "name": "python",
   "nbconvert_exporter": "python",
   "pygments_lexer": "ipython3",
   "version": "3.10.4"
  }
 },
 "nbformat": 4,
 "nbformat_minor": 5
}
