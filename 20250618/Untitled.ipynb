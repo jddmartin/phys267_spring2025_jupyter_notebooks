{
 "cells": [
  {
   "cell_type": "code",
   "execution_count": 5,
   "id": "f89033de-4eca-44a0-a7ff-908694093124",
   "metadata": {},
   "outputs": [],
   "source": [
    "import sympy as sy"
   ]
  },
  {
   "cell_type": "code",
   "execution_count": null,
   "id": "3de69d0e-1189-4f1d-aace-e2cfa75195af",
   "metadata": {},
   "outputs": [],
   "source": [
    "t = sy.symbols(\"t\")"
   ]
  },
  {
   "cell_type": "code",
   "execution_count": null,
   "id": "50abee12-34a5-4965-9ed7-1e1353c5402d",
   "metadata": {},
   "outputs": [
    {
     "data": {
      "text/latex": [
       "$\\displaystyle 2$"
      ],
      "text/plain": [
       "2"
      ]
     },
     "execution_count": 4,
     "metadata": {},
     "output_type": "execute_result"
    }
   ],
   "source": [
    "sy.integrate(t**2 * sy.exp(-t), (t, 0, sy.oo))"
   ]
  },
  {
   "cell_type": "code",
   "execution_count": 9,
   "id": "0b4bda40-0c4f-4cad-8709-2e231b940ff9",
   "metadata": {},
   "outputs": [],
   "source": [
    "import scipy.stats as ss\n",
    "import scipy.optimize as so"
   ]
  },
  {
   "cell_type": "code",
   "execution_count": 8,
   "id": "0967785d-5015-41f4-aded-dbbb8f30e242",
   "metadata": {},
   "outputs": [],
   "source": [
    "def f(z): return ss.norm(0, 1).cdf(z) - ss.norm(0, 1).cdf(-z) - 0.75"
   ]
  },
  {
   "cell_type": "code",
   "execution_count": 10,
   "id": "0f863b8a-be38-4440-90de-45fb38963e82",
   "metadata": {},
   "outputs": [
    {
     "data": {
      "text/plain": [
       "1.1503493803760083"
      ]
     },
     "execution_count": 10,
     "metadata": {},
     "output_type": "execute_result"
    }
   ],
   "source": [
    "so.brentq(f, 1, 2)"
   ]
  },
  {
   "cell_type": "code",
   "execution_count": null,
   "id": "e4923419-0c3e-4473-a38f-5bdd0c7c81ee",
   "metadata": {},
   "outputs": [],
   "source": []
  }
 ],
 "metadata": {
  "kernelspec": {
   "display_name": "Python 3",
   "language": "python",
   "name": "python3"
  },
  "language_info": {
   "codemirror_mode": {
    "name": "ipython",
    "version": 3
   },
   "file_extension": ".py",
   "mimetype": "text/x-python",
   "name": "python",
   "nbconvert_exporter": "python",
   "pygments_lexer": "ipython3",
   "version": "3.10.4"
  }
 },
 "nbformat": 4,
 "nbformat_minor": 5
}
