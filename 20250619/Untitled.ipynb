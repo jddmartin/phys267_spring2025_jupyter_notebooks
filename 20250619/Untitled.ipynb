{
 "cells": [
  {
   "cell_type": "code",
   "execution_count": 1,
   "id": "a92fb6df-3f6f-4991-81cb-89ffc294608b",
   "metadata": {},
   "outputs": [],
   "source": [
    "import sympy as sy"
   ]
  },
  {
   "cell_type": "code",
   "execution_count": 3,
   "id": "15360b5a-8c71-4a24-8a83-fbbb5bd90558",
   "metadata": {},
   "outputs": [],
   "source": [
    "r = sy.symbols(\"r\")"
   ]
  },
  {
   "cell_type": "code",
   "execution_count": 8,
   "id": "b488ea4d-9f44-498c-a950-e21c089f4b2e",
   "metadata": {},
   "outputs": [
    {
     "data": {
      "text/latex": [
       "$\\displaystyle \\frac{\\Gamma\\left(\\frac{1}{3}\\right)}{9}$"
      ],
      "text/plain": [
       "gamma(1/3)/9"
      ]
     },
     "execution_count": 8,
     "metadata": {},
     "output_type": "execute_result"
    }
   ],
   "source": [
    "sy.integrate(r**3 * sy.exp(-r**3), (r, 0, sy.oo))"
   ]
  },
  {
   "cell_type": "code",
   "execution_count": 9,
   "id": "ced7f183-1843-44cf-b6a0-dd9e4c70afb8",
   "metadata": {},
   "outputs": [
    {
     "data": {
      "text/latex": [
       "$\\displaystyle - \\frac{e^{- r^{3}}}{3}$"
      ],
      "text/plain": [
       "-exp(-r**3)/3"
      ]
     },
     "execution_count": 9,
     "metadata": {},
     "output_type": "execute_result"
    }
   ],
   "source": [
    "sy.integrate(r**2 * sy.exp(-r**3), r)"
   ]
  },
  {
   "cell_type": "code",
   "execution_count": null,
   "id": "3396a646-adbf-46a1-83dd-8797a1b30cba",
   "metadata": {},
   "outputs": [],
   "source": []
  }
 ],
 "metadata": {
  "kernelspec": {
   "display_name": "Python 3",
   "language": "python",
   "name": "python3"
  },
  "language_info": {
   "codemirror_mode": {
    "name": "ipython",
    "version": 3
   },
   "file_extension": ".py",
   "mimetype": "text/x-python",
   "name": "python",
   "nbconvert_exporter": "python",
   "pygments_lexer": "ipython3",
   "version": "3.10.4"
  }
 },
 "nbformat": 4,
 "nbformat_minor": 5
}
