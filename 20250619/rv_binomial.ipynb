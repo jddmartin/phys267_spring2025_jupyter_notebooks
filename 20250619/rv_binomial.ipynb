{
 "cells": [
  {
   "cell_type": "code",
   "execution_count": 1,
   "id": "9f103589-6c2b-4f13-88f5-b6da63f6812e",
   "metadata": {},
   "outputs": [],
   "source": [
    "# show how to generate random variables according to the binomial\n",
    "# probability distribution"
   ]
  },
  {
   "cell_type": "code",
   "execution_count": 2,
   "id": "30d8658b-8129-4ef4-9ed6-61ee55b4742b",
   "metadata": {},
   "outputs": [],
   "source": [
    "import random\n",
    "import numpy as np\n",
    "import matplotlib.pyplot as plt\n",
    "import math\n",
    "import scipy.special as ssf"
   ]
  },
  {
   "cell_type": "code",
   "execution_count": 3,
   "id": "06398612-9929-4750-bc56-866900a5b971",
   "metadata": {},
   "outputs": [],
   "source": [
    "# define binomial probability distribution:\n",
    "def f(n,p,i): return ssf.binom(n, i) * p**i * (1-p)**(n-i)"
   ]
  },
  {
   "cell_type": "code",
   "execution_count": 4,
   "id": "2bdf4d6c-2bf7-47bf-9f30-aefb4fc53820",
   "metadata": {},
   "outputs": [],
   "source": [
    "def rv(n, p):\n",
    "    y = random.random()\n",
    "    s = 0.0\n",
    "    for i in range(0, n+1):\n",
    "        s += f(n, p, i)\n",
    "        if y <= s:\n",
    "            return i"
   ]
  },
  {
   "cell_type": "code",
   "execution_count": 5,
   "id": "152ad7b5-3acb-42a0-8cd9-83722aa3d843",
   "metadata": {},
   "outputs": [],
   "source": [
    "n = 20; p = 0.2\n",
    "rvs = [rv(n, p) for _ in range(300000)]"
   ]
  },
  {
   "cell_type": "code",
   "execution_count": 6,
   "id": "fd5e1e35-df8f-4652-b1bd-60f6b79bdb0d",
   "metadata": {},
   "outputs": [
    {
     "data": {
      "text/plain": [
       "<matplotlib.legend.Legend at 0x7f04f7764340>"
      ]
     },
     "execution_count": 6,
     "metadata": {},
     "output_type": "execute_result"
    },
    {
     "data": {
      "image/png": "[encoded data removed]",
      "text/plain": [
       "<Figure size 640x480 with 1 Axes>"
      ]
     },
     "metadata": {},
     "output_type": "display_data"
    }
   ],
   "source": [
    "# histogram and compare to theory:\n",
    "bins = np.linspace(-0.5, 20.5, 22)\n",
    "cs = list(range(0,21))\n",
    "plt.hist(rvs, bins=bins, density=True,alpha=0.2, color=\"green\", label=\"empirical\")\n",
    "plt.bar(cs, [f(n, p, i) for i in cs],alpha=0.2,color=\"blue\", label=\"theory\")\n",
    "ax = plt.gca()\n",
    "ax.legend()"
   ]
  },
  {
   "cell_type": "code",
   "execution_count": null,
   "id": "77c23690-b0df-4d81-b0a5-b557bc2122eb",
   "metadata": {},
   "outputs": [],
   "source": []
  }
 ],
 "metadata": {
  "kernelspec": {
   "display_name": "Python 3",
   "language": "python",
   "name": "python3"
  },
  "language_info": {
   "codemirror_mode": {
    "name": "ipython",
    "version": 3
   },
   "file_extension": ".py",
   "mimetype": "text/x-python",
   "name": "python",
   "nbconvert_exporter": "python",
   "pygments_lexer": "ipython3",
   "version": "3.10.4"
  }
 },
 "nbformat": 4,
 "nbformat_minor": 5
}
