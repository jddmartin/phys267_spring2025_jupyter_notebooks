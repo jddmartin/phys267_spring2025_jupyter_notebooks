{
 "cells": [
  {
   "cell_type": "code",
   "execution_count": 7,
   "id": "5b68136c-714a-4386-abfa-0b5a53022e56",
   "metadata": {},
   "outputs": [],
   "source": [
    "import scipy.special as ssp\n",
    "import scipy.stats as ss\n",
    "import numpy as np"
   ]
  },
  {
   "cell_type": "code",
   "execution_count": null,
   "id": "03c53c35-ea9a-46db-adb8-a51fd2e86b14",
   "metadata": {},
   "outputs": [],
   "source": [
    "# LPIP Exercise 5.4"
   ]
  },
  {
   "cell_type": "code",
   "execution_count": 3,
   "id": "dd4f8351-cc98-407a-af13-a8e3b9c3fb52",
   "metadata": {},
   "outputs": [
    {
     "data": {
      "text/plain": [
       "0.1221923828125"
      ]
     },
     "execution_count": 3,
     "metadata": {},
     "output_type": "execute_result"
    }
   ],
   "source": [
    "ssp.factorial(16)/ssp.factorial(6)/ssp.factorial(10) * 0.5**16\n"
   ]
  },
  {
   "cell_type": "code",
   "execution_count": 6,
   "id": "9d91282a-495d-46f6-9531-e66baff87b98",
   "metadata": {},
   "outputs": [
    {
     "data": {
      "text/plain": [
       "0.12098536225957168"
      ]
     },
     "execution_count": 6,
     "metadata": {},
     "output_type": "execute_result"
    }
   ],
   "source": [
    "\n",
    "1/np.sqrt(2*np.pi) / 2.0 * np.exp(-0.5)"
   ]
  },
  {
   "cell_type": "code",
   "execution_count": 14,
   "id": "b103faca-f527-4243-aa54-1f8362fda210",
   "metadata": {},
   "outputs": [
    {
     "data": {
      "text/plain": [
       "0.8962127610439132"
      ]
     },
     "execution_count": 14,
     "metadata": {},
     "output_type": "execute_result"
    }
   ],
   "source": [
    "# LPIP Exercise 5.5\n",
    "n = 100; p = 0.75  \n",
    "sum([ss.binom(n, p).pmf(i) for i in range(70, 101)])"
   ]
  },
  {
   "cell_type": "code",
   "execution_count": 16,
   "id": "3620595d-6ae2-493e-b614-02351d27e114",
   "metadata": {},
   "outputs": [
    {
     "data": {
      "text/plain": [
       "1.1547005383792515"
      ]
     },
     "execution_count": 16,
     "metadata": {},
     "output_type": "execute_result"
    }
   ],
   "source": [
    "5/(np.sqrt(300)/4)"
   ]
  },
  {
   "cell_type": "code",
   "execution_count": 17,
   "id": "cd57e793-87b3-439e-b382-dec03992c10b",
   "metadata": {},
   "outputs": [
    {
     "data": {
      "text/plain": [
       "170.14705313439163"
      ]
     },
     "execution_count": 17,
     "metadata": {},
     "output_type": "execute_result"
    }
   ],
   "source": [
    "1.645*np.sqrt(150)+150"
   ]
  },
  {
   "cell_type": "code",
   "execution_count": null,
   "id": "3bce9b9f-9c87-44b2-85e0-68e40b4180eb",
   "metadata": {},
   "outputs": [],
   "source": []
  }
 ],
 "metadata": {
  "kernelspec": {
   "display_name": "Python 3",
   "language": "python",
   "name": "python3"
  },
  "language_info": {
   "codemirror_mode": {
    "name": "ipython",
    "version": 3
   },
   "file_extension": ".py",
   "mimetype": "text/x-python",
   "name": "python",
   "nbconvert_exporter": "python",
   "pygments_lexer": "ipython3",
   "version": "3.10.4"
  }
 },
 "nbformat": 4,
 "nbformat_minor": 5
}
