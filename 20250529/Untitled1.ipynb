{
 "cells": [
  {
   "cell_type": "code",
   "execution_count": 4,
   "id": "70319831-a6ad-4425-a3ea-7f8cd19a14a5",
   "metadata": {},
   "outputs": [],
   "source": [
    "import numpy as np"
   ]
  },
  {
   "cell_type": "code",
   "execution_count": 5,
   "id": "7ef48954-ff64-4255-b7c3-83129fd29ac6",
   "metadata": {},
   "outputs": [],
   "source": [
    "n = 1e5; p = (np.e-2)/2"
   ]
  },
  {
   "cell_type": "code",
   "execution_count": 6,
   "id": "88db61fa-59ce-4d84-ba1c-cee0f0d095ba",
   "metadata": {},
   "outputs": [
    {
     "data": {
      "text/plain": [
       "0.35914091422952255"
      ]
     },
     "execution_count": 6,
     "metadata": {},
     "output_type": "execute_result"
    }
   ],
   "source": [
    "p"
   ]
  },
  {
   "cell_type": "code",
   "execution_count": 11,
   "id": "ba6e3d8d-ff88-4c25-bd86-543291c1ec3e",
   "metadata": {},
   "outputs": [
    {
     "name": "stdout",
     "output_type": "stream",
     "text": [
      "151.70982761703516\n"
     ]
    }
   ],
   "source": [
    "sigma_ns2 = n * p * (1-p)\n",
    "sigma_ns = np.sqrt(sigma_ns2)\n",
    "print(sigma_ns)"
   ]
  },
  {
   "cell_type": "code",
   "execution_count": 12,
   "id": "4332f840-3921-4754-b365-be48b1f09cb8",
   "metadata": {},
   "outputs": [
    {
     "data": {
      "text/plain": [
       "0.003034196552340703"
      ]
     },
     "execution_count": 12,
     "metadata": {},
     "output_type": "execute_result"
    }
   ],
   "source": [
    "2 * sigma_ns / n"
   ]
  },
  {
   "cell_type": "code",
   "execution_count": null,
   "id": "33a0c202-60d9-46a2-8a1d-85861c083683",
   "metadata": {},
   "outputs": [],
   "source": []
  }
 ],
 "metadata": {
  "kernelspec": {
   "display_name": "Python 3",
   "language": "python",
   "name": "python3"
  },
  "language_info": {
   "codemirror_mode": {
    "name": "ipython",
    "version": 3
   },
   "file_extension": ".py",
   "mimetype": "text/x-python",
   "name": "python",
   "nbconvert_exporter": "python",
   "pygments_lexer": "ipython3",
   "version": "3.10.4"
  }
 },
 "nbformat": 4,
 "nbformat_minor": 5
}
