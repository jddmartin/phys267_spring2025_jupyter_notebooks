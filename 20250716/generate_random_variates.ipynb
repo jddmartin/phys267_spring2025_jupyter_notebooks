{
 "cells": [
  {
   "cell_type": "code",
   "execution_count": 9,
   "id": "50fd7ba3-6eba-445d-ad42-34697ee84a80",
   "metadata": {},
   "outputs": [],
   "source": [
    "import random\n",
    "import numpy as np\n",
    "import matplotlib.pyplot as plt\n",
    "random.seed(2)"
   ]
  },
  {
   "cell_type": "code",
   "execution_count": 10,
   "id": "0c92cdee-17b4-4e32-920a-825fa52baef0",
   "metadata": {},
   "outputs": [],
   "source": [
    "def variate_for_exponential(R):\n",
    "    cdf = random.random()\n",
    "    return np.log(1 - cdf)/(-R)"
   ]
  },
  {
   "cell_type": "code",
   "execution_count": 11,
   "id": "1054beb1-8cc3-44d6-8354-74aab6226218",
   "metadata": {},
   "outputs": [
    {
     "data": {
      "text/plain": [
       "3.124344855143063"
      ]
     },
     "execution_count": 11,
     "metadata": {},
     "output_type": "execute_result"
    }
   ],
   "source": [
    "variate_for_exponential(1)"
   ]
  },
  {
   "cell_type": "code",
   "execution_count": 31,
   "id": "dcc7fd97-7d8f-46b9-9d4c-7a133969ab81",
   "metadata": {},
   "outputs": [],
   "source": [
    "variates = [variate_for_exponential(5) for _ in range(1000000)]\n",
    "dead_time = 0.5\n",
    "variates_with_dt = [v for v in variates if v > dead_time]"
   ]
  },
  {
   "cell_type": "code",
   "execution_count": 32,
   "id": "3ab28668-cbcf-4366-9d7f-31f3e6da97f7",
   "metadata": {},
   "outputs": [
    {
     "name": "stdout",
     "output_type": "stream",
     "text": [
      "0.7002387546359158 0.20024815422643702\n"
     ]
    }
   ],
   "source": [
    "print(np.mean(variates_with_dt), np.mean(variates))"
   ]
  },
  {
   "cell_type": "code",
   "execution_count": 33,
   "id": "5c306047-77ef-4a26-95a6-fa38f723a97e",
   "metadata": {},
   "outputs": [
    {
     "data": {
      "text/plain": [
       "(array([4.71349429e+00, 4.28636281e+00, 3.86154640e+00, 3.48592536e+00,\n",
       "        3.08020832e+00, 2.75088880e+00, 2.51938122e+00, 2.26240781e+00,\n",
       "        2.05694483e+00, 1.84858801e+00, 1.65354288e+00, 1.53142263e+00,\n",
       "        1.33869257e+00, 1.21309971e+00, 1.09850346e+00, 9.76961979e-01,\n",
       "        9.17348778e-01, 8.18958057e-01, 7.42560556e-01, 6.44748605e-01,\n",
       "        5.77032638e-01, 5.31309891e-01, 4.67645308e-01, 4.17292409e-01,\n",
       "        4.01086879e-01, 3.59415515e-01, 3.05011234e-01, 2.81860476e-01,\n",
       "        2.44240495e-01, 2.47134339e-01, 2.06620513e-01, 1.86942369e-01,\n",
       "        1.82312218e-01, 1.44692236e-01, 1.43534698e-01, 1.25014092e-01,\n",
       "        1.05335948e-01, 1.06493486e-01, 8.27639591e-02, 7.63975007e-02,\n",
       "        7.52399628e-02, 6.48221218e-02, 5.20892050e-02, 5.03528982e-02,\n",
       "        4.97741293e-02, 4.63015156e-02, 3.64624435e-02, 3.58836746e-02,\n",
       "        2.25719889e-02, 1.90993752e-02, 2.08356820e-02, 1.96781441e-02,\n",
       "        1.44692236e-02, 1.67842994e-02, 1.67842994e-02, 1.33116857e-02,\n",
       "        1.21541478e-02, 1.79418373e-02, 1.27329168e-02, 9.26030312e-03,\n",
       "        5.78768945e-03, 5.78768945e-03, 5.78768945e-03, 6.94522734e-03,\n",
       "        5.78768945e-03, 5.78768945e-03, 4.63015156e-03, 5.20892050e-03,\n",
       "        2.31507578e-03, 4.63015156e-03, 1.15753789e-03, 1.73630683e-03,\n",
       "        2.31507578e-03, 1.15753789e-03, 5.78768945e-04, 2.89384472e-03,\n",
       "        1.15753789e-03, 2.31507578e-03, 0.00000000e+00, 1.15753789e-03,\n",
       "        1.73630683e-03, 1.73630683e-03, 0.00000000e+00, 0.00000000e+00,\n",
       "        5.78768945e-04, 0.00000000e+00, 5.78768945e-04, 0.00000000e+00,\n",
       "        5.78768945e-04, 1.15753789e-03, 5.78768945e-04, 0.00000000e+00,\n",
       "        0.00000000e+00, 5.78768945e-04, 0.00000000e+00, 5.78768945e-04,\n",
       "        5.78768945e-04, 0.00000000e+00, 5.78768945e-04, 5.78768945e-04]),\n",
       " array([0.50000269, 0.52097705, 0.54195142, 0.56292578, 0.58390014,\n",
       "        0.60487451, 0.62584887, 0.64682324, 0.6677976 , 0.68877197,\n",
       "        0.70974633, 0.7307207 , 0.75169506, 0.77266942, 0.79364379,\n",
       "        0.81461815, 0.83559252, 0.85656688, 0.87754125, 0.89851561,\n",
       "        0.91948997, 0.94046434, 0.9614387 , 0.98241307, 1.00338743,\n",
       "        1.0243618 , 1.04533616, 1.06631052, 1.08728489, 1.10825925,\n",
       "        1.12923362, 1.15020798, 1.17118235, 1.19215671, 1.21313108,\n",
       "        1.23410544, 1.2550798 , 1.27605417, 1.29702853, 1.3180029 ,\n",
       "        1.33897726, 1.35995163, 1.38092599, 1.40190035, 1.42287472,\n",
       "        1.44384908, 1.46482345, 1.48579781, 1.50677218, 1.52774654,\n",
       "        1.54872091, 1.56969527, 1.59066963, 1.611644  , 1.63261836,\n",
       "        1.65359273, 1.67456709, 1.69554146, 1.71651582, 1.73749018,\n",
       "        1.75846455, 1.77943891, 1.80041328, 1.82138764, 1.84236201,\n",
       "        1.86333637, 1.88431073, 1.9052851 , 1.92625946, 1.94723383,\n",
       "        1.96820819, 1.98918256, 2.01015692, 2.03113129, 2.05210565,\n",
       "        2.07308001, 2.09405438, 2.11502874, 2.13600311, 2.15697747,\n",
       "        2.17795184, 2.1989262 , 2.21990056, 2.24087493, 2.26184929,\n",
       "        2.28282366, 2.30379802, 2.32477239, 2.34574675, 2.36672112,\n",
       "        2.38769548, 2.40866984, 2.42964421, 2.45061857, 2.47159294,\n",
       "        2.4925673 , 2.51354167, 2.53451603, 2.55549039, 2.57646476,\n",
       "        2.59743912]),\n",
       " <BarContainer object of 100 artists>)"
      ]
     },
     "execution_count": 33,
     "metadata": {},
     "output_type": "execute_result"
    },
    {
     "data": {
      "image/png": "[encoded data removed]",
      "text/plain": [
       "<Figure size 640x480 with 1 Axes>"
      ]
     },
     "metadata": {},
     "output_type": "display_data"
    }
   ],
   "source": [
    "plt.hist(variates_with_dt, density=True, bins=100)"
   ]
  },
  {
   "cell_type": "code",
   "execution_count": null,
   "id": "8c08b9bf-93ec-42fe-b456-41b7f567ffd2",
   "metadata": {},
   "outputs": [],
   "source": []
  }
 ],
 "metadata": {
  "kernelspec": {
   "display_name": "Python 3",
   "language": "python",
   "name": "python3"
  },
  "language_info": {
   "codemirror_mode": {
    "name": "ipython",
    "version": 3
   },
   "file_extension": ".py",
   "mimetype": "text/x-python",
   "name": "python",
   "nbconvert_exporter": "python",
   "pygments_lexer": "ipython3",
   "version": "3.10.4"
  }
 },
 "nbformat": 4,
 "nbformat_minor": 5
}
