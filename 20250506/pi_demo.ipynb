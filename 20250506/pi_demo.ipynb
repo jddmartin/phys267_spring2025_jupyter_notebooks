{
 "cells": [
  {
   "cell_type": "code",
   "execution_count": 46,
   "id": "6d837c4d-b35a-46fb-ab35-92e6aa869260",
   "metadata": {},
   "outputs": [],
   "source": [
    "import numpy as np\n",
    "import random"
   ]
  },
  {
   "cell_type": "code",
   "execution_count": 25,
   "id": "783fd0d8-b3c3-4c1f-9b81-c8e151164d27",
   "metadata": {},
   "outputs": [],
   "source": [
    "dice_rolls = [2,19,8,5,10,4,11,11,15,9,1,5,17,6,16,19,13,3,\n",
    "              4,5,4,5,12,8,2,10,18,19,16,6,11,8,18,5,4,13,4,\n",
    "              8,1,10,7,11,12,7,10,12,2,20,1,16,5,12,20,12,19,\n",
    "              9,2,18,5,6,8,6,10,7]"
   ]
  },
  {
   "cell_type": "code",
   "execution_count": 73,
   "id": "b2b53ddf-e25a-4541-bc13-deee2ae6e6c4",
   "metadata": {},
   "outputs": [],
   "source": [
    "ld = len(dice_rolls)\n",
    "xs = -0.5 + np.array(dice_rolls[0:ld-1:2])\n",
    "ys = -0.5 + np.array(dice_rolls[1:ld:2])\n",
    "n_success = 0\n",
    "n_trials = len(xs)\n",
    "R = 20\n",
    "for x, y in zip(xs,ys):\n",
    "    r = np.sqrt(x**2 + y**2)\n",
    "    if r <= R:\n",
    "        n_success += 1        "
   ]
  },
  {
   "cell_type": "code",
   "execution_count": 44,
   "id": "4ac9443a-57ce-473c-ba2f-e549fcf5a144",
   "metadata": {},
   "outputs": [
    {
     "data": {
      "text/plain": [
       "0.875"
      ]
     },
     "execution_count": 44,
     "metadata": {},
     "output_type": "execute_result"
    }
   ],
   "source": [
    "n_success/n_trials"
   ]
  },
  {
   "cell_type": "code",
   "execution_count": 45,
   "id": "ad0c17ae-ec15-4ade-a7b5-ac1a5ebf43a0",
   "metadata": {},
   "outputs": [
    {
     "name": "stdout",
     "output_type": "stream",
     "text": [
      "pi_est=3.5\n"
     ]
    }
   ],
   "source": [
    "pi_est = 4.0 * n_success / n_trials\n",
    "print(f\"{pi_est=}\")"
   ]
  },
  {
   "cell_type": "code",
   "execution_count": 49,
   "id": "f8b15945-0cf1-4b5e-8727-82354bdfe1a1",
   "metadata": {},
   "outputs": [
    {
     "name": "stdout",
     "output_type": "stream",
     "text": [
      "Help on built-in function random:\n",
      "\n",
      "random() method of random.Random instance\n",
      "    random() -> x in the interval [0, 1).\n",
      "\n"
     ]
    }
   ],
   "source": [
    "help(random.random)"
   ]
  },
  {
   "cell_type": "code",
   "execution_count": 65,
   "id": "1627d424-b3b0-4184-945c-320433da28ae",
   "metadata": {},
   "outputs": [
    {
     "name": "stdout",
     "output_type": "stream",
     "text": [
      "pi_est=3.1429168\n"
     ]
    }
   ],
   "source": [
    "# let's have the computer generate the random coordinates\n",
    "n_trials = int(1e7)\n",
    "n_success = 0\n",
    "for _ in range(n_trials):\n",
    "    x = random.random()\n",
    "    y = random.random()\n",
    "    r = np.sqrt(x**2 + y**2)\n",
    "    if r < 1: \n",
    "        n_success += 1\n",
    "pi_est = 4.0 * n_success / n_trials\n",
    "print(f\"{pi_est=}\")"
   ]
  },
  {
   "cell_type": "code",
   "execution_count": 69,
   "id": "c10c72a4-2231-4d1e-9b7c-43b67cd419a3",
   "metadata": {},
   "outputs": [
    {
     "data": {
      "text/plain": [
       "6"
      ]
     },
     "execution_count": 69,
     "metadata": {},
     "output_type": "execute_result"
    }
   ],
   "source": [
    "int(6.1)"
   ]
  },
  {
   "cell_type": "code",
   "execution_count": 80,
   "id": "38b0733f-98c5-4f0c-a153-482d116facb0",
   "metadata": {},
   "outputs": [
    {
     "name": "stdout",
     "output_type": "stream",
     "text": [
      "pi_est=3.1616675\n"
     ]
    }
   ],
   "source": [
    "# artificial dice rolls\n",
    "dice_rolls = [1+int(20*random.random()) for _ in range(100000*64)]\n",
    "ld = len(dice_rolls)\n",
    "xs = -0.5 + np.array(dice_rolls[0:ld-1:2])\n",
    "ys = -0.5 + np.array(dice_rolls[1:ld:2])\n",
    "n_success = 0\n",
    "n_trials = len(xs)\n",
    "R = 20\n",
    "for x, y in zip(xs,ys):\n",
    "    r = np.sqrt(x**2 + y**2)\n",
    "    if r <= R:\n",
    "        n_success += 1   \n",
    "pi_est = 4.0 * n_success / n_trials\n",
    "print(f\"{pi_est=}\")"
   ]
  },
  {
   "cell_type": "code",
   "execution_count": null,
   "id": "c5cd8fed-bcaa-4fb6-a368-bc8517b805f1",
   "metadata": {},
   "outputs": [],
   "source": []
  }
 ],
 "metadata": {
  "kernelspec": {
   "display_name": "Python 3",
   "language": "python",
   "name": "python3"
  },
  "language_info": {
   "codemirror_mode": {
    "name": "ipython",
    "version": 3
   },
   "file_extension": ".py",
   "mimetype": "text/x-python",
   "name": "python",
   "nbconvert_exporter": "python",
   "pygments_lexer": "ipython3",
   "version": "3.10.4"
  }
 },
 "nbformat": 4,
 "nbformat_minor": 5
}
