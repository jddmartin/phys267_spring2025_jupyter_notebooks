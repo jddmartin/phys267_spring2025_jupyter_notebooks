{
 "cells": [
  {
   "cell_type": "code",
   "execution_count": 27,
   "id": "6d837c4d-b35a-46fb-ab35-92e6aa869260",
   "metadata": {},
   "outputs": [],
   "source": [
    "import numpy as np\n",
    "import random\n",
    "import matplotlib.pyplot as plt\n",
    "import scipy.stats as ss\n",
    "random.seed(2)"
   ]
  },
  {
   "cell_type": "code",
   "execution_count": 28,
   "id": "b2b53ddf-e25a-4541-bc13-deee2ae6e6c4",
   "metadata": {},
   "outputs": [],
   "source": [
    "def est_pi(n_trials):\n",
    "    n_success = 0\n",
    "    for _ in range(n_trials):\n",
    "        x = random.random()\n",
    "        y = random.random()\n",
    "        if x**2 + y**2 < 1:\n",
    "            n_success += 1\n",
    "    return 4.0 * n_success / n_trials"
   ]
  },
  {
   "cell_type": "code",
   "execution_count": 29,
   "id": "c5cd8fed-bcaa-4fb6-a368-bc8517b805f1",
   "metadata": {},
   "outputs": [],
   "source": [
    "ests = [est_pi(10000) for _ in range(100)]"
   ]
  },
  {
   "cell_type": "code",
   "execution_count": 30,
   "id": "05f801f7-f5a0-4c25-a47d-d181287d47cf",
   "metadata": {},
   "outputs": [
    {
     "data": {
      "text/plain": [
       "0.017140606874915598"
      ]
     },
     "execution_count": 30,
     "metadata": {},
     "output_type": "execute_result"
    }
   ],
   "source": [
    "sigma = np.sqrt(ss.describe(ests).variance)\n",
    "sigma"
   ]
  },
  {
   "cell_type": "code",
   "execution_count": 31,
   "id": "8cd8d65a-44ed-41cd-9658-02a44c5a0f37",
   "metadata": {},
   "outputs": [
    {
     "data": {
      "text/plain": [
       "(0.0, 25.0)"
      ]
     },
     "execution_count": 31,
     "metadata": {},
     "output_type": "execute_result"
    },
    {
     "data": {
      "image/png": "[encoded data removed]",
      "text/plain": [
       "<Figure size 350x250 with 1 Axes>"
      ]
     },
     "metadata": {},
     "output_type": "display_data"
    }
   ],
   "source": [
    "plt.style.use(\"phys267_jupyter_overhead.mplstyle\")\n",
    "fig, ax = plt.subplots()\n",
    "ax.hist(ests, range=(3.1,3.2), bins=10, density=True)\n",
    "ax.axvline(np.pi, 0, 1, color=\"red\", alpha=0.3)\n",
    "ax.axvline(np.pi-sigma, 0, 1, color=\"green\")\n",
    "ax.axvline(np.pi+sigma, 0, 1, color=\"green\")\n",
    "ax.axvline(np.pi-s_pi_t, 0, 1, color=\"red\")\n",
    "ax.axvline(np.pi+s_pi_t, 0, 1, color=\"red\")\n",
    "ax.text(3.04, 15, \"red, theory\")\n",
    "ax.text(3.04, 12, \"green, est.\")\n",
    "ax.text(np.pi, 0.0, r\"$\\pi$\", ha=\"center\", va=\"top\")\n",
    "ax.set_xlabel(r\"$\\pi_{est}$\")\n",
    "ax.set_ylabel(r\"$f(\\pi_{est})$\")\n",
    "ax.set_xlim([3.05,3.2])\n",
    "ax.set_ylim([0, 25])"
   ]
  },
  {
   "cell_type": "code",
   "execution_count": 26,
   "id": "8c2ee6e5-78ed-4e8c-a052-32baaa029a2b",
   "metadata": {},
   "outputs": [
    {
     "data": {
      "text/plain": [
       "1685.4788832936342"
      ]
     },
     "execution_count": 26,
     "metadata": {},
     "output_type": "execute_result"
    }
   ],
   "source": [
    "s2 = 1e4 * np.pi/4 * (1-np.pi/4)\n",
    "s2"
   ]
  },
  {
   "cell_type": "code",
   "execution_count": 22,
   "id": "ea4b0cf7-756b-4182-a808-fdb631161bc8",
   "metadata": {},
   "outputs": [
    {
     "data": {
      "text/plain": [
       "41.0545841934081"
      ]
     },
     "execution_count": 22,
     "metadata": {},
     "output_type": "execute_result"
    }
   ],
   "source": [
    "s = np.sqrt(s2)\n",
    "s"
   ]
  },
  {
   "cell_type": "code",
   "execution_count": 10,
   "id": "cf61113f-a89f-41ce-9dfd-e8a3614c669e",
   "metadata": {},
   "outputs": [
    {
     "data": {
      "text/plain": [
       "0.01642183367736324"
      ]
     },
     "execution_count": 10,
     "metadata": {},
     "output_type": "execute_result"
    }
   ],
   "source": [
    "s_pi_t = 4*s/10000\n",
    "s_pi_t"
   ]
  },
  {
   "cell_type": "code",
   "execution_count": null,
   "id": "2db7b473-2711-4be6-993e-de7544ade524",
   "metadata": {},
   "outputs": [],
   "source": []
  }
 ],
 "metadata": {
  "kernelspec": {
   "display_name": "Python 3",
   "language": "python",
   "name": "python3"
  },
  "language_info": {
   "codemirror_mode": {
    "name": "ipython",
    "version": 3
   },
   "file_extension": ".py",
   "mimetype": "text/x-python",
   "name": "python",
   "nbconvert_exporter": "python",
   "pygments_lexer": "ipython3",
   "version": "3.10.4"
  }
 },
 "nbformat": 4,
 "nbformat_minor": 5
}
